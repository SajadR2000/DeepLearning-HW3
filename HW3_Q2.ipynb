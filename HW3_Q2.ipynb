{
  "cells": [
    {
      "cell_type": "markdown",
      "metadata": {
        "collapsed": false,
        "id": "fm7axotc56iO"
      },
      "source": [
        "# Sajad Rahmanian - 97101683\n",
        "# Q2"
      ]
    },
    {
      "cell_type": "code",
      "source": [
        "import tensorflow as tf\n",
        "from tensorflow.keras.applications.resnet50 import ResNet50\n",
        "import math\n",
        "from tensorflow import keras\n",
        "from tensorflow.keras import layers"
      ],
      "metadata": {
        "id": "bacTHuD8OXR1"
      },
      "execution_count": null,
      "outputs": []
    },
    {
      "cell_type": "markdown",
      "source": [
        "# ResNet18\n",
        "***Tensorflow doesn't have standard implementation of ResNet18, so I used the following implementation from [this link](https://github.com/jimmyyhwu/resnet18-tf2). I checked the layers of this network, and they were the same as torchvision standard implementation.***"
      ],
      "metadata": {
        "id": "ozp2oUzHYaC3"
      }
    },
    {
      "cell_type": "code",
      "source": [
        "! git clone https://github.com/jimmyyhwu/resnet18-tf2.git\n",
        "! cp '/content/resnet18-tf2/resnet.py' '/content/'"
      ],
      "metadata": {
        "colab": {
          "base_uri": "https://localhost:8080/"
        },
        "id": "hpq5NfJHZQ7b",
        "outputId": "c9d2d3ee-64a2-4c14-c7fd-7c4d1e6ee28e"
      },
      "execution_count": null,
      "outputs": [
        {
          "output_type": "stream",
          "name": "stdout",
          "text": [
            "Cloning into 'resnet18-tf2'...\n",
            "remote: Enumerating objects: 6, done.\u001b[K\n",
            "remote: Counting objects: 100% (6/6), done.\u001b[K\n",
            "remote: Compressing objects: 100% (5/5), done.\u001b[K\n",
            "remote: Total 6 (delta 1), reused 6 (delta 1), pack-reused 0\u001b[K\n",
            "Unpacking objects: 100% (6/6), 2.89 KiB | 2.89 MiB/s, done.\n"
          ]
        }
      ]
    },
    {
      "cell_type": "code",
      "source": [
        "from resnet import resnet18"
      ],
      "metadata": {
        "id": "7YhC1X2BaTeY"
      },
      "execution_count": null,
      "outputs": []
    },
    {
      "cell_type": "markdown",
      "source": [
        "# Loading the CIFAR-10 Dataset"
      ],
      "metadata": {
        "id": "zTIQkj79IDjz"
      }
    },
    {
      "cell_type": "code",
      "source": [
        "(training_images, training_labels) , (validation_images, validation_labels) = tf.keras.datasets.cifar10.load_data()"
      ],
      "metadata": {
        "colab": {
          "base_uri": "https://localhost:8080/"
        },
        "id": "DN9_B7E6Oyj7",
        "outputId": "961ea21f-576a-49d2-d374-dd787b5abe6e"
      },
      "execution_count": null,
      "outputs": [
        {
          "output_type": "stream",
          "name": "stdout",
          "text": [
            "Downloading data from https://www.cs.toronto.edu/~kriz/cifar-10-python.tar.gz\n",
            "170498071/170498071 [==============================] - 14s 0us/step\n"
          ]
        }
      ]
    },
    {
      "cell_type": "markdown",
      "source": [
        "***Normalizing the dataset***"
      ],
      "metadata": {
        "id": "aBqKsJUOIZPe"
      }
    },
    {
      "cell_type": "code",
      "source": [
        "def preprocess_image_input(input_images):\n",
        "  input_images = input_images.astype('float32')\n",
        "  output_ims = tf.keras.applications.resnet50.preprocess_input(input_images)\n",
        "  return output_ims"
      ],
      "metadata": {
        "id": "6TbUD77NcCK5"
      },
      "execution_count": null,
      "outputs": []
    },
    {
      "cell_type": "code",
      "source": [
        "train_X = preprocess_image_input(training_images)\n",
        "valid_X = preprocess_image_input(validation_images)"
      ],
      "metadata": {
        "id": "y6h96Jt-edB8"
      },
      "execution_count": null,
      "outputs": []
    },
    {
      "cell_type": "markdown",
      "source": [
        "# Linear tuning the ResNet50 model"
      ],
      "metadata": {
        "id": "eYE6LYpjIlhw"
      }
    },
    {
      "cell_type": "code",
      "source": [
        "def resnet50(x):\n",
        "    y = layers.UpSampling2D(size=(7, 7), interpolation='bicubic')(x)\n",
        "    feature_map = ResNet50(input_shape=(224, 224, 3), include_top=False, weights='imagenet')(y)\n",
        "    y = layers.GlobalAveragePooling2D()(feature_map)\n",
        "    y = layers.Flatten()(y)\n",
        "    y = layers.Dense(10, name='classifier')(y)\n",
        "    return y\n",
        "\n",
        "def resnet50_model():\n",
        "    inputs = layers.Input((32, 32, 3))\n",
        "    outputs = resnet50(inputs)\n",
        "    model = keras.Model(inputs=inputs, outputs=outputs)\n",
        "    model.compile(optimizer='SGD',\n",
        "                  loss=tf.keras.losses.SparseCategoricalCrossentropy(from_logits=True),\n",
        "                  metrics=['accuracy'])\n",
        "    return model"
      ],
      "metadata": {
        "id": "RObhLwHNedm5"
      },
      "execution_count": null,
      "outputs": []
    },
    {
      "cell_type": "code",
      "source": [
        "teacher_model = resnet50_model()\n",
        "teacher_model.layers[2].trainable = False\n",
        "teacher_model.summary()"
      ],
      "metadata": {
        "colab": {
          "base_uri": "https://localhost:8080/"
        },
        "id": "a7SbqRmEEzd1",
        "outputId": "f566d5f0-8572-4ab2-87c9-74f073369e6b"
      },
      "execution_count": null,
      "outputs": [
        {
          "output_type": "stream",
          "name": "stdout",
          "text": [
            "Downloading data from https://storage.googleapis.com/tensorflow/keras-applications/resnet/resnet50_weights_tf_dim_ordering_tf_kernels_notop.h5\n",
            "94765736/94765736 [==============================] - 5s 0us/step\n",
            "Model: \"model\"\n",
            "_________________________________________________________________\n",
            " Layer (type)                Output Shape              Param #   \n",
            "=================================================================\n",
            " input_1 (InputLayer)        [(None, 32, 32, 3)]       0         \n",
            "                                                                 \n",
            " up_sampling2d (UpSampling2D  (None, 224, 224, 3)      0         \n",
            " )                                                               \n",
            "                                                                 \n",
            " resnet50 (Functional)       (None, 7, 7, 2048)        23587712  \n",
            "                                                                 \n",
            " global_average_pooling2d (G  (None, 2048)             0         \n",
            " lobalAveragePooling2D)                                          \n",
            "                                                                 \n",
            " flatten (Flatten)           (None, 2048)              0         \n",
            "                                                                 \n",
            " classifier (Dense)          (None, 10)                20490     \n",
            "                                                                 \n",
            "=================================================================\n",
            "Total params: 23,608,202\n",
            "Trainable params: 20,490\n",
            "Non-trainable params: 23,587,712\n",
            "_________________________________________________________________\n"
          ]
        }
      ]
    },
    {
      "cell_type": "code",
      "source": [
        "from tensorflow.python.client import device_lib\n",
        "print(device_lib.list_local_devices())"
      ],
      "metadata": {
        "colab": {
          "base_uri": "https://localhost:8080/"
        },
        "id": "18HfoZTGE8sy",
        "outputId": "30cfdd0e-8dc0-4510-b138-9356f64d0637"
      },
      "execution_count": null,
      "outputs": [
        {
          "output_type": "stream",
          "name": "stdout",
          "text": [
            "[name: \"/device:CPU:0\"\n",
            "device_type: \"CPU\"\n",
            "memory_limit: 268435456\n",
            "locality {\n",
            "}\n",
            "incarnation: 5220552397384426829\n",
            "xla_global_id: -1\n",
            ", name: \"/device:GPU:0\"\n",
            "device_type: \"GPU\"\n",
            "memory_limit: 14415560704\n",
            "locality {\n",
            "  bus_id: 1\n",
            "  links {\n",
            "  }\n",
            "}\n",
            "incarnation: 12960937943434928406\n",
            "physical_device_desc: \"device: 0, name: Tesla T4, pci bus id: 0000:00:04.0, compute capability: 7.5\"\n",
            "xla_global_id: 416903419\n",
            "]\n"
          ]
        }
      ]
    },
    {
      "cell_type": "code",
      "source": [
        "EPOCHS = 3\n",
        "BATCH_SIZE = 64"
      ],
      "metadata": {
        "id": "Jv5cWoTUGDZy"
      },
      "execution_count": null,
      "outputs": []
    },
    {
      "cell_type": "code",
      "source": [
        "history = teacher_model.fit(train_X,\n",
        "                    training_labels,\n",
        "                    epochs=EPOCHS,\n",
        "                    validation_data=(valid_X, validation_labels),\n",
        "                    batch_size=BATCH_SIZE)"
      ],
      "metadata": {
        "colab": {
          "base_uri": "https://localhost:8080/"
        },
        "id": "0DHXp9vjF7CJ",
        "outputId": "5d3db3ef-bd07-4dd5-dd71-5e7d561e433f"
      },
      "execution_count": null,
      "outputs": [
        {
          "output_type": "stream",
          "name": "stdout",
          "text": [
            "Epoch 1/3\n",
            "782/782 [==============================] - 566s 704ms/step - loss: 0.3378 - accuracy: 0.8879 - val_loss: 0.2073 - val_accuracy: 0.9289\n",
            "Epoch 2/3\n",
            "782/782 [==============================] - 536s 686ms/step - loss: 0.0911 - accuracy: 0.9698 - val_loss: 0.1945 - val_accuracy: 0.9339\n",
            "Epoch 3/3\n",
            "782/782 [==============================] - 549s 702ms/step - loss: 0.0342 - accuracy: 0.9908 - val_loss: 0.1391 - val_accuracy: 0.9575\n"
          ]
        }
      ]
    },
    {
      "cell_type": "markdown",
      "source": [
        "***Making teacher untrainable***"
      ],
      "metadata": {
        "id": "uIZCDsBrIzst"
      }
    },
    {
      "cell_type": "code",
      "source": [
        "for layer in teacher_model.layers:\n",
        "    layer.trainable = False"
      ],
      "metadata": {
        "id": "I09lqzeCTOvP"
      },
      "execution_count": null,
      "outputs": []
    },
    {
      "cell_type": "markdown",
      "source": [
        "# Knowledge Distillation Model"
      ],
      "metadata": {
        "id": "rvmkr8-5JG7c"
      }
    },
    {
      "cell_type": "code",
      "source": [
        "class TeacherStudent(keras.Model):\n",
        "    def __init__(self, student_net, teacher_net):\n",
        "        super().__init__()\n",
        "        self.student = student_net\n",
        "        self.teacher = teacher_net\n",
        "\n",
        "    def compile(self, alpha=0.1, tau=3):\n",
        "        super().compile(optimizer=keras.optimizers.SGD(), metrics=[keras.metrics.SparseCategoricalAccuracy()])\n",
        "        self.student_loss_fn = keras.losses.SparseCategoricalCrossentropy(from_logits=True)\n",
        "        self.teacher_student_loss_fn = keras.losses.CategoricalCrossentropy(from_logits=True)\n",
        "        self.alpha = alpha\n",
        "        self.tau = tau\n",
        "    \n",
        "    def augmented_loss_fn(self, student_loss, teacher_student_loss):\n",
        "        loss_ = self.alpha * student_loss + (1 - self.alpha) * (self.tau ** 2) * teacher_student_loss\n",
        "        return loss_\n",
        "\n",
        "    def train_step(self, data):\n",
        "        x, y = data\n",
        "        teacher_predictions = self.teacher(x, training=False)\n",
        "        with tf.GradientTape() as tape:\n",
        "            student_predictions = self.student(x, training=True)\n",
        "            student_loss = self.student_loss_fn(y, student_predictions)\n",
        "            teacher_student_loss = self.teacher_student_loss_fn(\n",
        "                    tf.nn.softmax(teacher_predictions / self.tau, axis=1),\n",
        "                    tf.nn.softmax(student_predictions / self.tau, axis=1))\n",
        "\n",
        "            loss = self.augmented_loss_fn(student_loss, teacher_student_loss)\n",
        "\n",
        "        trainable_vars = self.student.trainable_variables\n",
        "        gradients = tape.gradient(loss, trainable_vars)\n",
        "        self.optimizer.apply_gradients(zip(gradients, trainable_vars))\n",
        "        self.compiled_metrics.update_state(y, student_predictions)\n",
        "        results = {m.name: m.result() for m in self.metrics}\n",
        "        results.update(\n",
        "            {\"true_loss\": student_loss, \"augmented_loss\": loss}\n",
        "        )\n",
        "        return results\n",
        "\n",
        "    def test_step(self, data):\n",
        "        x, y = data\n",
        "        y_prediction = self.student(x, training=False)\n",
        "        student_loss = self.student_loss_fn(y, y_prediction)\n",
        "        self.compiled_metrics.update_state(y, y_prediction)\n",
        "        results = {m.name: m.result() for m in self.metrics}\n",
        "        results.update({\"true_loss\": student_loss})\n",
        "        return results"
      ],
      "metadata": {
        "id": "gTvfKc6P22yX"
      },
      "execution_count": null,
      "outputs": []
    },
    {
      "cell_type": "code",
      "source": [
        "def resnet18_new(x):\n",
        "    y = layers.UpSampling2D(size=(7, 7), interpolation='bicubic')(x)\n",
        "    y = resnet18(y, num_classes=10)\n",
        "    return y\n",
        "\n",
        "inputs = layers.Input((32, 32, 3))\n",
        "outputs = resnet18_new(inputs)\n",
        "student_model = keras.Model(inputs=inputs, outputs=outputs)\n",
        "student_scratch = keras.models.clone_model(student_model)"
      ],
      "metadata": {
        "id": "WmvfqaCCSPCM"
      },
      "execution_count": null,
      "outputs": []
    },
    {
      "cell_type": "markdown",
      "source": [
        "# Trying different values for $\\tau$ and $\\alpha$"
      ],
      "metadata": {
        "id": "8Mn0kYsoWuER"
      }
    },
    {
      "cell_type": "code",
      "source": [
        "taus = [1, 3, 5]\n",
        "alphas = [0.2, 0.5, 0.8]\n",
        "for tau in taus:\n",
        "    for alpha in alphas:\n",
        "        student_temp = keras.models.clone_model(student_model)\n",
        "        teacher_student = TeacherStudent(student_temp, teacher_model)\n",
        "        teacher_student.compile(alpha=alpha, tau=tau)\n",
        "        teacher_student.fit(train_X,\n",
        "                    training_labels,\n",
        "                    epochs=1,\n",
        "                    validation_data=(valid_X, validation_labels),\n",
        "                    batch_size=BATCH_SIZE)"
      ],
      "metadata": {
        "id": "YxowCyDF5p9T",
        "colab": {
          "base_uri": "https://localhost:8080/"
        },
        "outputId": "7f2f6c85-033a-4646-e4a7-a8f022e65d89"
      },
      "execution_count": null,
      "outputs": [
        {
          "output_type": "stream",
          "name": "stdout",
          "text": [
            "782/782 [==============================] - 327s 414ms/step - sparse_categorical_accuracy: 0.3111 - true_loss: 1.8634 - augmented_loss: 2.1340 - val_sparse_categorical_accuracy: 0.3509 - val_true_loss: 1.9871\n",
            "782/782 [==============================] - 326s 414ms/step - sparse_categorical_accuracy: 0.3485 - true_loss: 1.7566 - augmented_loss: 1.9693 - val_sparse_categorical_accuracy: 0.3969 - val_true_loss: 1.4142\n",
            "782/782 [==============================] - 327s 414ms/step - sparse_categorical_accuracy: 0.3743 - true_loss: 1.6904 - augmented_loss: 1.7856 - val_sparse_categorical_accuracy: 0.4256 - val_true_loss: 1.4346\n",
            "782/782 [==============================] - 327s 413ms/step - sparse_categorical_accuracy: 0.3145 - true_loss: 2.1353 - augmented_loss: 16.4388 - val_sparse_categorical_accuracy: 0.3910 - val_true_loss: 2.1180\n",
            "782/782 [==============================] - 326s 414ms/step - sparse_categorical_accuracy: 0.3592 - true_loss: 1.7621 - augmented_loss: 10.9309 - val_sparse_categorical_accuracy: 0.3976 - val_true_loss: 1.8376\n",
            "782/782 [==============================] - 326s 413ms/step - sparse_categorical_accuracy: 0.3754 - true_loss: 1.6810 - augmented_loss: 5.3904 - val_sparse_categorical_accuracy: 0.4077 - val_true_loss: 1.6019\n",
            "782/782 [==============================] - 327s 413ms/step - sparse_categorical_accuracy: 0.3209 - true_loss: 2.3582 - augmented_loss: 45.5532 - val_sparse_categorical_accuracy: 0.3711 - val_true_loss: 3.9645\n",
            "782/782 [==============================] - 326s 414ms/step - sparse_categorical_accuracy: 0.3485 - true_loss: 1.8333 - augmented_loss: 29.2661 - val_sparse_categorical_accuracy: 0.4032 - val_true_loss: 2.4997\n",
            "782/782 [==============================] - 327s 414ms/step - sparse_categorical_accuracy: 0.3801 - true_loss: 1.6725 - augmented_loss: 12.7301 - val_sparse_categorical_accuracy: 0.4012 - val_true_loss: 1.8025\n"
          ]
        }
      ]
    },
    {
      "cell_type": "code",
      "source": [
        "student_final = keras.models.clone_model(student_model)\n",
        "teacher_student = TeacherStudent(student_final, teacher_model)\n",
        "teacher_student.compile(alpha=0.8, tau=1)"
      ],
      "metadata": {
        "id": "3B46Pw6Xcy0O"
      },
      "execution_count": null,
      "outputs": []
    },
    {
      "cell_type": "markdown",
      "source": [
        "***The following results are obtained after 13 epochs***"
      ],
      "metadata": {
        "id": "kR1q7Xcwz1qM"
      }
    },
    {
      "cell_type": "code",
      "source": [
        "teacher_student.fit(train_X,\n",
        "                    training_labels,\n",
        "                    epochs=5,\n",
        "                    validation_data=(valid_X, validation_labels),\n",
        "                    batch_size=BATCH_SIZE)"
      ],
      "metadata": {
        "colab": {
          "base_uri": "https://localhost:8080/"
        },
        "id": "QnKdpRIZ7D8U",
        "outputId": "261086c5-0baf-45a7-b4df-214aba563b84"
      },
      "execution_count": null,
      "outputs": [
        {
          "output_type": "stream",
          "name": "stdout",
          "text": [
            "Epoch 1/5\n",
            "782/782 [==============================] - 323s 414ms/step - sparse_categorical_accuracy: 0.8206 - true_loss: 0.5187 - augmented_loss: 0.7579 - val_sparse_categorical_accuracy: 0.6519 - val_true_loss: 0.5842\n",
            "Epoch 2/5\n",
            "782/782 [==============================] - 323s 413ms/step - sparse_categorical_accuracy: 0.8510 - true_loss: 0.4384 - augmented_loss: 0.6871 - val_sparse_categorical_accuracy: 0.5986 - val_true_loss: 1.4548\n",
            "Epoch 3/5\n",
            "782/782 [==============================] - 323s 413ms/step - sparse_categorical_accuracy: 0.8788 - true_loss: 0.3601 - augmented_loss: 0.6180 - val_sparse_categorical_accuracy: 0.6187 - val_true_loss: 1.5672\n",
            "Epoch 4/5\n",
            "782/782 [==============================] - 323s 413ms/step - sparse_categorical_accuracy: 0.9055 - true_loss: 0.2853 - augmented_loss: 0.5518 - val_sparse_categorical_accuracy: 0.3905 - val_true_loss: 2.6782\n",
            "Epoch 5/5\n",
            "782/782 [==============================] - 323s 414ms/step - sparse_categorical_accuracy: 0.9306 - true_loss: 0.2159 - augmented_loss: 0.4903 - val_sparse_categorical_accuracy: 0.6718 - val_true_loss: 1.2750\n"
          ]
        },
        {
          "output_type": "execute_result",
          "data": {
            "text/plain": [
              "<keras.callbacks.History at 0x7fe3bcde93a0>"
            ]
          },
          "metadata": {},
          "execution_count": 26
        }
      ]
    },
    {
      "cell_type": "markdown",
      "source": [
        "# Training ResNet18 without teacher"
      ],
      "metadata": {
        "id": "O9ofL3PkKGUQ"
      }
    },
    {
      "cell_type": "code",
      "source": [
        "student_scratch.compile(optimizer='SGD',\n",
        "                        loss=tf.keras.losses.SparseCategoricalCrossentropy(from_logits=True),\n",
        "                        metrics=['accuracy'])"
      ],
      "metadata": {
        "id": "lGN8W2zGM0Hk"
      },
      "execution_count": null,
      "outputs": []
    },
    {
      "cell_type": "markdown",
      "source": [
        "***The following results are obtained after 13 epochs***"
      ],
      "metadata": {
        "id": "zaRwgdW053tC"
      }
    },
    {
      "cell_type": "code",
      "source": [
        "history2 = student_scratch.fit(train_X,\n",
        "                               training_labels,\n",
        "                               epochs=EPOCHS+1,\n",
        "                               validation_data=(valid_X, validation_labels),\n",
        "                               batch_size=BATCH_SIZE)"
      ],
      "metadata": {
        "colab": {
          "base_uri": "https://localhost:8080/"
        },
        "id": "CJzGtTMrt3Sl",
        "outputId": "54401ff8-57a0-468c-9dad-6debb7d8e49d"
      },
      "execution_count": null,
      "outputs": [
        {
          "output_type": "stream",
          "name": "stdout",
          "text": [
            "Epoch 1/4\n",
            "782/782 [==============================] - 188s 240ms/step - loss: 0.3717 - accuracy: 0.8735 - val_loss: 1.6018 - val_accuracy: 0.5731\n",
            "Epoch 2/4\n",
            "782/782 [==============================] - 187s 239ms/step - loss: 0.2922 - accuracy: 0.9045 - val_loss: 2.0736 - val_accuracy: 0.5559\n",
            "Epoch 3/4\n",
            "782/782 [==============================] - 187s 239ms/step - loss: 0.2119 - accuracy: 0.9337 - val_loss: 1.5502 - val_accuracy: 0.5995\n",
            "Epoch 4/4\n",
            "782/782 [==============================] - 187s 240ms/step - loss: 0.1478 - accuracy: 0.9565 - val_loss: 0.9527 - val_accuracy: 0.7229\n"
          ]
        }
      ]
    },
    {
      "cell_type": "markdown",
      "source": [
        "***We can see that the normal training has better results. However, the results seem to be noisy since in some epochs validation accuracy changes unusally. But the better results can otherwise be due to the fact that in second method we are optimizing the true loss***"
      ],
      "metadata": {
        "id": "0BLtXG9_LBEj"
      }
    },
    {
      "cell_type": "markdown",
      "source": [
        "# Fine-tuning"
      ],
      "metadata": {
        "id": "ARlLNTObH6nx"
      }
    },
    {
      "cell_type": "code",
      "source": [
        "res50_model = resnet50_model()\n",
        "history = res50_model.fit(train_X,\n",
        "                            training_labels,\n",
        "                            epochs=EPOCHS,\n",
        "                            validation_data=(valid_X, validation_labels),\n",
        "                            batch_size=BATCH_SIZE)"
      ],
      "metadata": {
        "colab": {
          "base_uri": "https://localhost:8080/"
        },
        "id": "o4i1klIbuG6p",
        "outputId": "b3d51226-da9a-47ee-ecb2-bd883a2cbe31"
      },
      "execution_count": null,
      "outputs": [
        {
          "output_type": "stream",
          "name": "stdout",
          "text": [
            "Epoch 1/3\n",
            "782/782 [==============================] - 552s 701ms/step - loss: 0.3390 - accuracy: 0.8879 - val_loss: 0.2358 - val_accuracy: 0.9182\n",
            "Epoch 2/3\n",
            "782/782 [==============================] - 547s 699ms/step - loss: 0.0920 - accuracy: 0.9705 - val_loss: 0.1694 - val_accuracy: 0.9440\n",
            "Epoch 3/3\n",
            "782/782 [==============================] - 547s 700ms/step - loss: 0.0344 - accuracy: 0.9909 - val_loss: 0.1386 - val_accuracy: 0.9553\n"
          ]
        }
      ]
    },
    {
      "cell_type": "markdown",
      "source": [
        "***We can see that the outputs don't differ much. This is probably because that the feature maps that are obtained for imagenet dataset classification are also good for classifying cifar-10***"
      ],
      "metadata": {
        "id": "_myUgzYoKVzK"
      }
    },
    {
      "cell_type": "code",
      "source": [],
      "metadata": {
        "id": "nDRxbZGZ8-Gv"
      },
      "execution_count": null,
      "outputs": []
    }
  ],
  "metadata": {
    "accelerator": "GPU",
    "colab": {
      "provenance": []
    },
    "gpuClass": "standard",
    "kernelspec": {
      "display_name": "Python 3",
      "language": "python",
      "name": "python3"
    },
    "language_info": {
      "codemirror_mode": {
        "name": "ipython",
        "version": 2
      },
      "file_extension": ".py",
      "mimetype": "text/x-python",
      "name": "python",
      "nbconvert_exporter": "python",
      "pygments_lexer": "ipython2",
      "version": "2.7.6"
    }
  },
  "nbformat": 4,
  "nbformat_minor": 0
}